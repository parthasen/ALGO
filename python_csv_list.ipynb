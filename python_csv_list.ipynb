{
 "cells": [
  {
   "cell_type": "code",
   "execution_count": 25,
   "metadata": {
    "collapsed": true
   },
   "outputs": [],
   "source": [
    "import pandas as pd\n",
    "import numpy as np\n",
    "import matplotlib.pylab as plt\n",
    "import csv\n",
    "import glob"
   ]
  },
  {
   "cell_type": "code",
   "execution_count": 2,
   "metadata": {
    "collapsed": true
   },
   "outputs": [],
   "source": [
    "#s5s.close()\n",
    "#h5s = pd.HDFStore('C:\\\\Users\\M...\\Dropbox\\IB_data\\SPY'+ '.h5s', 'r')\n",
    "#spy = h5s['SPY'] "
   ]
  },
  {
   "cell_type": "code",
   "execution_count": 5,
   "metadata": {
    "collapsed": true
   },
   "outputs": [],
   "source": [
    "def read_data(path):\n",
    "    all_features=[]\n",
    "    time_list=[]\n",
    "    #sym_list = []\n",
    "    bidP_list = []\n",
    "    bidS_list=[]\n",
    "    askP_list=[]\n",
    "    askS_list=[]\n",
    "    count=0\n",
    "    #path = 'C:\\\\Users\\Michal\\Dropbox\\IB_data'\n",
    "    csv_file = open(path, 'r')\n",
    "    content = csv_file.readlines()\n",
    "    filtered=(line.replace('\\n','') for line in content)\n",
    "    for line in filtered:\n",
    "        l=line.split(',')\n",
    "        all_features.append(l)\n",
    "        time,askPrice,askSize,bidPrice,bidSize = l\n",
    "        time_list.append(time)\n",
    "        #sym_list.append(sym)\n",
    "        bidP_list.append(float(bidPrice))\n",
    "        bidS_list.append(float(bidSize))\n",
    "        askP_list.append(float(askPrice))\n",
    "        askS_list.append(float(askSize))\n",
    "    return time,bidP_list,bidS_list,askP_list,askS_list\n",
    "    #return askP_list"
   ]
  },
  {
   "cell_type": "code",
   "execution_count": 37,
   "metadata": {
    "collapsed": true
   },
   "outputs": [],
   "source": [
    "def read_data(path):\n",
    "    all_features=[]\n",
    "    time_list=[]\n",
    "    #sym_list = []\n",
    "    bidP_list = []\n",
    "    bidS_list=[]\n",
    "    askP_list=[]\n",
    "    askS_list=[]\n",
    "\n",
    "    allFiles = glob.glob(path)\n",
    "    frame = pd.DataFrame()\n",
    "    list_ = []\n",
    "    for file_ in allFiles:\n",
    "        df = pd.read_csv(file_,index_col=None, header=0)\n",
    "        list_.append(df)\n",
    "        l=list_.split(',')\n",
    "        all_features.append(l)\n",
    "        time,askPrice,askSize,bidPrice,bidSize = l\n",
    "        time_list.append(time)\n",
    "        #sym_list.append(sym)\n",
    "        bidP_list.append(float(bidPrice))\n",
    "        bidS_list.append(float(bidSize))\n",
    "        askP_list.append(float(askPrice))\n",
    "        askS_list.append(float(askSize))\n",
    "    return time,bidP_list,bidS_list,askP_list,askS_list\n",
    "        #frame = pd.concat(list_)\n",
    "    #print(list_)"
   ]
  },
  {
   "cell_type": "code",
   "execution_count": 3,
   "metadata": {
    "collapsed": true
   },
   "outputs": [],
   "source": [
    "def fearure_creation(time,bidP_list,bidS_list,askP_list,askS_list,length):\n",
    "        #Initialising\n",
    "    close_list=[]\n",
    "    price_list=[]\n",
    "    for i in range(1, len(bidS_list)-1):\n",
    "        close_list=(bidP_list[i]+askP_list[i])/2\n",
    "        price_list=(bidP_list*bidS_list+askP_list*askS_list)/(bidS_list+askS_list)\n",
    "    return close_list,price_list"
   ]
  },
  {
   "cell_type": "code",
   "execution_count": 38,
   "metadata": {
    "collapsed": false
   },
   "outputs": [
    {
     "ename": "AttributeError",
     "evalue": "'list' object has no attribute 'split'",
     "output_type": "error",
     "traceback": [
      "\u001b[1;31m---------------------------------------------------------------------------\u001b[0m",
      "\u001b[1;31mAttributeError\u001b[0m                            Traceback (most recent call last)",
      "\u001b[1;32m<ipython-input-38-7e03a4b7dc08>\u001b[0m in \u001b[0;36m<module>\u001b[1;34m()\u001b[0m\n\u001b[0;32m      1\u001b[0m \u001b[1;31m#path = 'C:\\\\Users\\Michal\\Dropbox\\IB_data'\u001b[0m\u001b[1;33m\u001b[0m\u001b[1;33m\u001b[0m\u001b[0m\n\u001b[0;32m      2\u001b[0m \u001b[0mpath\u001b[0m \u001b[1;33m=\u001b[0m \u001b[1;34m'C:\\\\Users\\Michal\\Desktop'\u001b[0m\u001b[1;33m+\u001b[0m \u001b[1;34m'\\SPY31July17.csv'\u001b[0m\u001b[1;33m\u001b[0m\u001b[0m\n\u001b[1;32m----> 3\u001b[1;33m \u001b[0mtime\u001b[0m\u001b[1;33m,\u001b[0m\u001b[0mbidP_list\u001b[0m\u001b[1;33m,\u001b[0m\u001b[0mbidS_list\u001b[0m\u001b[1;33m,\u001b[0m\u001b[0maskP_list\u001b[0m\u001b[1;33m,\u001b[0m\u001b[0maskS_list\u001b[0m\u001b[1;33m=\u001b[0m\u001b[0mread_data\u001b[0m\u001b[1;33m(\u001b[0m\u001b[0mpath\u001b[0m\u001b[1;33m)\u001b[0m\u001b[1;33m\u001b[0m\u001b[0m\n\u001b[0m\u001b[0;32m      4\u001b[0m \u001b[1;31m#close_list,price_list=fearure_creation(time,bidP_list,bidS_list,askP_list,askS_list,20)\u001b[0m\u001b[1;33m\u001b[0m\u001b[1;33m\u001b[0m\u001b[0m\n",
      "\u001b[1;32m<ipython-input-37-f2326ba024d5>\u001b[0m in \u001b[0;36mread_data\u001b[1;34m(path)\u001b[0m\n\u001b[0;32m     14\u001b[0m         \u001b[0mdf\u001b[0m \u001b[1;33m=\u001b[0m \u001b[0mpd\u001b[0m\u001b[1;33m.\u001b[0m\u001b[0mread_csv\u001b[0m\u001b[1;33m(\u001b[0m\u001b[0mfile_\u001b[0m\u001b[1;33m,\u001b[0m\u001b[0mindex_col\u001b[0m\u001b[1;33m=\u001b[0m\u001b[1;32mNone\u001b[0m\u001b[1;33m,\u001b[0m \u001b[0mheader\u001b[0m\u001b[1;33m=\u001b[0m\u001b[1;36m0\u001b[0m\u001b[1;33m)\u001b[0m\u001b[1;33m\u001b[0m\u001b[0m\n\u001b[0;32m     15\u001b[0m         \u001b[0mlist_\u001b[0m\u001b[1;33m.\u001b[0m\u001b[0mappend\u001b[0m\u001b[1;33m(\u001b[0m\u001b[0mdf\u001b[0m\u001b[1;33m)\u001b[0m\u001b[1;33m\u001b[0m\u001b[0m\n\u001b[1;32m---> 16\u001b[1;33m         \u001b[0ml\u001b[0m\u001b[1;33m=\u001b[0m\u001b[0mlist_\u001b[0m\u001b[1;33m.\u001b[0m\u001b[0msplit\u001b[0m\u001b[1;33m(\u001b[0m\u001b[1;34m','\u001b[0m\u001b[1;33m)\u001b[0m\u001b[1;33m\u001b[0m\u001b[0m\n\u001b[0m\u001b[0;32m     17\u001b[0m         \u001b[0mall_features\u001b[0m\u001b[1;33m.\u001b[0m\u001b[0mappend\u001b[0m\u001b[1;33m(\u001b[0m\u001b[0ml\u001b[0m\u001b[1;33m)\u001b[0m\u001b[1;33m\u001b[0m\u001b[0m\n\u001b[0;32m     18\u001b[0m         \u001b[0mtime\u001b[0m\u001b[1;33m,\u001b[0m\u001b[0maskPrice\u001b[0m\u001b[1;33m,\u001b[0m\u001b[0maskSize\u001b[0m\u001b[1;33m,\u001b[0m\u001b[0mbidPrice\u001b[0m\u001b[1;33m,\u001b[0m\u001b[0mbidSize\u001b[0m \u001b[1;33m=\u001b[0m \u001b[0ml\u001b[0m\u001b[1;33m\u001b[0m\u001b[0m\n",
      "\u001b[1;31mAttributeError\u001b[0m: 'list' object has no attribute 'split'"
     ]
    }
   ],
   "source": [
    "#path = 'C:\\\\Users\\M...\\Dropbox\\IB_data'\n",
    "path = 'C:\\\\Users\\M...\\Desktop'+ '\\SPY31July17.csv'\n",
    "time,bidP_list,bidS_list,askP_list,askS_list=read_data(path)\n",
    "#close_list,price_list=fearure_creation(time,bidP_list,bidS_list,askP_list,askS_list,20)"
   ]
  },
  {
   "cell_type": "code",
   "execution_count": 15,
   "metadata": {
    "collapsed": true
   },
   "outputs": [],
   "source": [
    "#time,bidP_list,bidS_list,askP_list,askS_list"
   ]
  },
  {
   "cell_type": "code",
   "execution_count": 27,
   "metadata": {
    "collapsed": true
   },
   "outputs": [],
   "source": [
    "#how to avoid \\n ?? filtered=(line.replace() for line in myfile)"
   ]
  }
 ],
 "metadata": {
  "kernelspec": {
   "display_name": "Python 3",
   "language": "python",
   "name": "python3"
  },
  "language_info": {
   "codemirror_mode": {
    "name": "ipython",
    "version": 3
   },
   "file_extension": ".py",
   "mimetype": "text/x-python",
   "name": "python",
   "nbconvert_exporter": "python",
   "pygments_lexer": "ipython3",
   "version": "3.5.2"
  },
  "widgets": {
   "state": {},
   "version": "1.1.2"
  }
 },
 "nbformat": 4,
 "nbformat_minor": 2
}
